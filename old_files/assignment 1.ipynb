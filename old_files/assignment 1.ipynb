{
 "cells": [
  {
   "cell_type": "markdown",
   "metadata": {
    "colab_type": "text",
    "id": "wHIJXuml3JLf"
   },
   "source": [
    "# Assignment 1 **<font color=\"blue\"> (15 points )<font>**\n",
    "\n",
    "------\n",
    "### Notes and Instructions\n",
    "  + You may need additional libraries besides the Python standard library to solve some questions. Import only necessary libraries. \n",
    "  + If more than one library exist for a same purpose, choose the one you wish as long as it does the task properly. \n",
    "  + If we want you to use a specific library, then we will state it clearly. \n",
    "  + Use the exact variable names asked in the questions. When no clear instructions given, feel free to do it the way you would like to.\n",
    "  + After each question, add the needed number of new cells and place your answers inside the cells. \n",
    "  + Use text cells for explanations. Use explanation and plain text as much as possible. \n",
    "  + Do not remove or modify the original cells provided by the instructor.\n",
    "  + In the following cell you will find some extra options to make your code more readable, including output colors RED, OKBLUE, or output text styles like BOLD or UNDERLINE that. Do not hesitate to use them. As an example, one may output text in red as follows: \n",
    "  ```python\n",
    "     print(bcolors.RED + \"your text\" + bcolors.ENDC)\n",
    "  ```\n",
    "  + Comment your code whenever needed using # sign at the beginning of the row.\n",
    "  + In some questions some of the details needed for solving the problem are **purposely** omitted to encourage additional self-directed research. This, especially, helps you develop some search skills for coding in Python (which is inevitable due to the inconsistent syntax of Python).\n",
    "  + Do not hesitate to communicate your questions to the TA's or instructors. Good luck!  \n",
    "  "
   ]
  },
  {
   "cell_type": "code",
   "execution_count": 77,
   "metadata": {
    "colab": {},
    "colab_type": "code",
    "id": "tJS1lJsC3JLm"
   },
   "outputs": [],
   "source": [
    "# The following piece of code gives the opportunity to show multiple outputs\n",
    "# in one cell:\n",
    "from IPython.core.interactiveshell import InteractiveShell\n",
    "InteractiveShell.ast_node_interactivity = \"all\"\n",
    "\n",
    "# Colorful outputs\n",
    "class bcolors:\n",
    "    RED       = '\\033[91m'\n",
    "    OKBLUE    = '\\033[94m'\n",
    "    BOLD      = '\\033[1m'\n",
    "    UNDERLINE = '\\033[4m'\n",
    "    ENDC      = '\\033[0m'"
   ]
  },
  {
   "cell_type": "markdown",
   "metadata": {
    "colab_type": "text",
    "id": "ctNRZFL03JLv"
   },
   "source": [
    "## Question 1 <font color=\"blue\">(1 point)</font>\n",
    "\n",
    "  1. **<font color=\"blue\">(0.5 points)</font>** Write a Python **function** that takes two **positive integers** and returns their **greatest common divisor**. In case you pass a negative integer to the function it must return the following string **in red**: <br> <font color=\"red\"> \"This function takes only positive integers!\" </font>\n",
    "  2. **<font color=\"blue\">(0.5 points)</font>** Write a function that prints all the prime numbers less than or equal to $n$, where $n$ is a parameter to be passed to the function. If $n \\leq 1$ the function returns <br>\n",
    "<font color=\"red\">\"No prime number was found!\"</span>."
   ]
  },
  {
   "cell_type": "markdown",
   "metadata": {
    "colab_type": "text",
    "id": "ctNRZFL03JLv"
   },
   "source": [
    "## 1.1"
   ]
  },
  {
   "cell_type": "code",
   "execution_count": 68,
   "metadata": {},
   "outputs": [
    {
     "name": "stdout",
     "output_type": "stream",
     "text": [
      "10\n"
     ]
    }
   ],
   "source": [
    "\n",
    "def great_com_divisor(x,y):\n",
    "    if x <= 0 or y <= 0:\n",
    "        return print(bcolors.RED  + \"This function takes only positive integers\")\n",
    "    x_prime = False\n",
    "    y_prime = False\n",
    "    #is x prime?\n",
    "    for i in range(2,x):\n",
    "           if (x % i) == 0:\n",
    "                x_prime = False\n",
    "    #is y prime? \n",
    "    for i in range(2,y):\n",
    "           if (y % i) == 0:\n",
    "                y_prime = False\n",
    "                    \n",
    "    if x < 4 and y<4 :\n",
    "        return 1\n",
    "\n",
    "    elif x_prime == True and y_prime == True:\n",
    "        return 1\n",
    "    else:\n",
    "    #calculate mdc\n",
    "        while y:\n",
    "            x, y = y, x%y\n",
    "    return x\n",
    "print(great_com_divisor(8,4))    "
   ]
  },
  {
   "cell_type": "markdown",
   "metadata": {
    "colab_type": "text",
    "id": "ctNRZFL03JLv"
   },
   "source": [
    "## 1.2.  "
   ]
  },
  {
   "cell_type": "code",
   "execution_count": 152,
   "metadata": {
    "scrolled": true
   },
   "outputs": [
    {
     "name": "stdout",
     "output_type": "stream",
     "text": [
      "2\n",
      "3\n",
      "5\n",
      "7\n",
      "11\n",
      "13\n",
      "None\n"
     ]
    }
   ],
   "source": [
    "def primes(y):\n",
    "    y_prime=False\n",
    "    for i in range(2,y):\n",
    "        if (y % i) == 0:\n",
    "            y_prime = False\n",
    "        else:\n",
    "            print(y_prime)\n",
    "\n",
    "print(prime(15))"
   ]
  },
  {
   "cell_type": "markdown",
   "metadata": {
    "colab_type": "text",
    "id": "udPL4T8f3JLx"
   },
   "source": [
    "## Question 2 <font color=\"blue\">(6 points)</font>\n",
    "Let $\\mathbf X\\sim \\mbox{Exp}(\\lambda)$, with parameter $\\lambda = 1.2$.\n",
    "  1. **<font color=\"blue\">(0.5 points)</font>** What is the population mean?\n",
    "  2. **<font color=\"blue\">(1 point)</font>**  Generate $100$ different samples of $\\mathbf X$, namely, $S_{100}, S_{200}, S_{300}, \\dots, S_{10000}$, where indeces denote the number of observations (sample size) in each sample. \n",
    "  3. **<font color=\"blue\">(1.5 points)</font> Estimate** the population mean using each sample and explain the rationale behind your estimation. \n",
    "  4. **<font color=\"blue\">(1 point)</font>** Applying **appropriate** methods visualize and describe the values obtained in the previous step. \n",
    "  5. **<font color=\"blue\">(2 points)</font>** Finally, draw an inference about the population mean and its relation with sample means, based on visualized results in step 4."
   ]
  },
  {
   "cell_type": "markdown",
   "metadata": {
    "colab_type": "text",
    "id": "ctNRZFL03JLv"
   },
   "source": [
    "## 2.1. "
   ]
  },
  {
   "cell_type": "code",
   "execution_count": 268,
   "metadata": {},
   "outputs": [
    {
     "data": {
      "text/plain": [
       "0.8333333333333334"
      ]
     },
     "execution_count": 268,
     "metadata": {},
     "output_type": "execute_result"
    }
   ],
   "source": [
    "1.2"
   ]
  },
  {
   "cell_type": "markdown",
   "metadata": {
    "colab_type": "text",
    "id": "ctNRZFL03JLv"
   },
   "source": [
    "## 2.2. "
   ]
  },
  {
   "cell_type": "code",
   "execution_count": 279,
   "metadata": {},
   "outputs": [],
   "source": [
    "import decimal\n",
    "\n",
    "def drange(x, y, jump):\n",
    "    while x < y:\n",
    "        yield float(x)\n",
    "        x += decimal.Decimal(jump)"
   ]
  },
  {
   "cell_type": "code",
   "execution_count": 295,
   "metadata": {},
   "outputs": [
    {
     "name": "stdout",
     "output_type": "stream",
     "text": [
      "10000\n"
     ]
    }
   ],
   "source": [
    "from math import exp\n",
    "from math import e\n",
    "import numpy as np\n",
    "import decimal\n",
    "pop = []\n",
    "x = 0\n",
    "for a in range(1,10001):\n",
    "    pop.append((1.2)*e**(-1.2*x))\n",
    "    x =+0.0001\n",
    "print(len(pop))\n"
   ]
  },
  {
   "cell_type": "markdown",
   "metadata": {
    "colab_type": "text",
    "id": "ctNRZFL03JLv"
   },
   "source": [
    "### 2.3. "
   ]
  },
  {
   "cell_type": "code",
   "execution_count": 299,
   "metadata": {
    "scrolled": true
   },
   "outputs": [
    {
     "name": "stdout",
     "output_type": "stream",
     "text": [
      "1.20\n",
      "1.20\n",
      "1.20\n",
      "1.20\n",
      "1.20\n",
      "1.20\n",
      "1.20\n",
      "1.20\n",
      "1.20\n",
      "1.20\n"
     ]
    }
   ],
   "source": [
    "import random\n",
    "import seaborn as sb\n",
    "\n",
    "for k in range(100,10100,100):\n",
    "    exec(f'S{k} =pop[1:k]')\n",
    "    \n",
    "print(\"%0.2f\" % np.mean(S100))\n",
    "print(\"%0.2f\" % np.mean(S200))\n",
    "print(\"%0.2f\" % np.mean(S300))\n",
    "print(\"%0.2f\" % np.mean(S400))\n",
    "print(\"%0.2f\" % np.mean(S500))\n",
    "print(\"%0.2f\" % np.mean(S600))\n",
    "print(\"%0.2f\" % np.mean(S700))\n",
    "print(\"%0.2f\" % np.mean(S800))\n",
    "print(\"%0.2f\" % np.mean(S900))\n",
    "print(\"%0.2f\" % np.mean(S1000))\n",
    "\n",
    "#I believe the mean should be 0, because the greater the population the more it aproximates to zero"
   ]
  },
  {
   "cell_type": "markdown",
   "metadata": {
    "colab_type": "text",
    "id": "ctNRZFL03JLv"
   },
   "source": [
    "### 2.4. "
   ]
  },
  {
   "cell_type": "code",
   "execution_count": null,
   "metadata": {},
   "outputs": [],
   "source": []
  },
  {
   "cell_type": "markdown",
   "metadata": {
    "colab_type": "text",
    "id": "x7-bW60Eb151"
   },
   "source": [
    "## Question 3 <font color=\"blue\">(8 points)</font>\n",
    "In this exercise you will create some simulated data and will fit simple\n",
    "linear regression models to it. Make sure to fix the seed to $111$ prior to\n",
    "starting.\n",
    "  \n",
    "  1. **<font color=\"blue\">(0.25 points)</font>** Create a vector `x` containing $100$ observations drawn from a $\\mathcal{N}(0, 1)$ distribution as your feature. \n",
    "  2. **<font color=\"blue\">(0.25 points)</font>** Create a vector, `eps` (for $\\epsilon$), containing $100$ observations drawn from a $\\mathcal{N}(0, 0.25)$. \n",
    "  3. **<font color=\"blue\">(0.5 points)</font>** Using `x` and `eps` generate a vector `y` according to the model $y = −1 + 0.5x + \\epsilon$.\n",
    "  4. **<font color=\"blue\">(0.5 points)</font>** Create a scatterplot displaying the relationship between `x` and `y`. Comment on what you observe.\n",
    "  5. **<font color=\"blue\">(2 points)</font>** Fit a least squares linear model to predict `y` using `x` . Comment on the model obtained. How do $\\hat{\\beta}_0$ and $\\hat{\\beta}_1$ compare to $\\beta_0$ and $\\beta_1$?\n",
    "  6. **<font color=\"blue\">(2 point)</font>** Display the least squares line on the scatterplot obtained in part 4. Draw the population regression line on the plot, in a different color. Create an appropriate legend.\n",
    "  7. **<font color=\"blue\">(2.5 points)</font>** Explain how the result would change if you generate the data with less noise and repeat all steps 1 to 6? What about more noise? "
   ]
  },
  {
   "cell_type": "code",
   "execution_count": null,
   "metadata": {},
   "outputs": [],
   "source": []
  }
 ],
 "metadata": {
  "colab": {
   "collapsed_sections": [],
   "name": "Assignment01.ipynb",
   "provenance": []
  },
  "kernelspec": {
   "display_name": "Python 3",
   "language": "python",
   "name": "python3"
  },
  "language_info": {
   "codemirror_mode": {
    "name": "ipython",
    "version": 3
   },
   "file_extension": ".py",
   "mimetype": "text/x-python",
   "name": "python",
   "nbconvert_exporter": "python",
   "pygments_lexer": "ipython3",
   "version": "3.7.6"
  }
 },
 "nbformat": 4,
 "nbformat_minor": 4
}
